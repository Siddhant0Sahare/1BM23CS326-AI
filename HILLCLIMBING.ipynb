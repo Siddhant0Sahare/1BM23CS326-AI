{
  "nbformat": 4,
  "nbformat_minor": 0,
  "metadata": {
    "colab": {
      "provenance": [],
      "authorship_tag": "ABX9TyPgtBv/ySigktw8bWp5zjIZ"
    },
    "kernelspec": {
      "name": "python3",
      "display_name": "Python 3"
    },
    "language_info": {
      "name": "python"
    }
  },
  "cells": [
    {
      "cell_type": "code",
      "source": [
        "import random\n",
        "\n",
        "def calculate_cost(board):\n",
        "    cost = 0\n",
        "    n = len(board)\n",
        "    for i in range(n):\n",
        "        for j in range(i + 1, n):\n",
        "            if board[i] == board[j] or abs(board[i] - board[j]) == j - i:\n",
        "                cost += 1\n",
        "    return cost\n",
        "\n",
        "def get_neighbors(board):\n",
        "    neighbors = []\n",
        "    n = len(board)\n",
        "    for row in range(n):\n",
        "        for new_col in range(n):\n",
        "            if new_col != board[row]:\n",
        "                new_board = board[:]\n",
        "                new_board[row] = new_col\n",
        "                neighbors.append(new_board)\n",
        "    return neighbors\n",
        "\n",
        "def hill_climbing(n, max_restarts=100):\n",
        "    solutions = set()\n",
        "\n",
        "    for restart in range(max_restarts):\n",
        "        current_board = [random.randint(0, n-1) for _ in range(n)]\n",
        "        current_cost = calculate_cost(current_board)\n",
        "\n",
        "        while current_cost > 0:\n",
        "            neighbors = get_neighbors(current_board)\n",
        "            next_board = None\n",
        "            next_cost = current_cost\n",
        "\n",
        "            for neighbor in neighbors:\n",
        "                cost = calculate_cost(neighbor)\n",
        "                if cost < next_cost:\n",
        "                    next_board = neighbor\n",
        "                    next_cost = cost\n",
        "\n",
        "            if next_board is None:\n",
        "                break\n",
        "            else:\n",
        "                current_board = next_board\n",
        "                current_cost = next_cost\n",
        "\n",
        "        if current_cost == 0:\n",
        "            solutions.add(tuple(current_board))\n",
        "\n",
        "    return list(solutions)\n",
        "\n",
        "\n",
        "n = 4\n",
        "solutions = hill_climbing(n)\n",
        "\n",
        "\n",
        "for i, solution in enumerate(solutions):\n",
        "    print(f\"Solution {i + 1}:\")\n",
        "    print(\"Final Configuration:\", solution)\n",
        "print(\"siddhant sahare 1BM23CS3267\")"
      ],
      "metadata": {
        "colab": {
          "base_uri": "https://localhost:8080/"
        },
        "id": "DcMUvLkc4Ye5",
        "outputId": "cf87da7a-0e44-4415-88bb-a2030c4eb78e"
      },
      "execution_count": 4,
      "outputs": [
        {
          "output_type": "stream",
          "name": "stdout",
          "text": [
            "Solution 1:\n",
            "Final Configuration: (2, 0, 3, 1)\n",
            "Solution 2:\n",
            "Final Configuration: (1, 3, 0, 2)\n",
            "siddhant sahare 1BM23CS3267\n"
          ]
        }
      ]
    }
  ]
}