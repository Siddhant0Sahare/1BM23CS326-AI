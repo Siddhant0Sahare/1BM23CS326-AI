{
  "nbformat": 4,
  "nbformat_minor": 0,
  "metadata": {
    "colab": {
      "provenance": [],
      "authorship_tag": "ABX9TyOV7oZKNRYB5D+3KhC9zjTI"
    },
    "kernelspec": {
      "name": "python3",
      "display_name": "Python 3"
    },
    "language_info": {
      "name": "python"
    }
  },
  "cells": [
    {
      "cell_type": "code",
      "execution_count": null,
      "metadata": {
        "id": "WEO5dstz2nLz"
      },
      "outputs": [],
      "source": [
        "import numpy as np\n",
        "from scipy.optimize import dual_annealing\n",
        "\n",
        "def calculate_cost(board):\n",
        "    cost = 0\n",
        "    n = len(board)\n",
        "    for i in range(n):\n",
        "        for j in range(i + 1, n):\n",
        "            if board[i] == board[j] or abs(board[i] - board[j]) == j - i:\n",
        "                cost += 1\n",
        "    return cost\n",
        "\n",
        "def cost_function(board):\n",
        "    board = np.round(board).astype(int)\n",
        "    return calculate_cost(board)\n",
        "\n",
        "def solve_8_queens(n=8, max_restarts=100):\n",
        "    bounds = [(0, n-1)] * n\n",
        "\n",
        "    unique_solutions = set()\n",
        "\n",
        "    for _ in range(max_restarts):\n",
        "        result = dual_annealing(cost_function, bounds)\n",
        "\n",
        "        solution = np.round(result.x).astype(int)\n",
        "        cost = result.fun\n",
        "\n",
        "        if cost == 0:\n",
        "            unique_solutions.add(tuple(solution))\n",
        "\n",
        "    return list(unique_solutions)\n",
        "\n",
        "def print_solution(board):\n",
        "    print(\" \".join(map(str, board)))\n",
        "\n",
        "solutions = solve_8_queens()\n",
        "\n",
        "if solutions:\n",
        "    print(\"Unique Solutions Found:\")\n",
        "    for idx, solution in enumerate(solutions):\n",
        "        print(f\"Solution {idx + 1}:\")\n",
        "        print_solution(solution)\n",
        "        print()\n",
        "else:\n",
        "    print(\"No solutions found.\")"
      ]
    }
  ]
}
